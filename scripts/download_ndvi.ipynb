{
 "cells": [
  {
   "cell_type": "code",
   "execution_count": 1,
   "id": "d8c0ec5c",
   "metadata": {},
   "outputs": [],
   "source": [
    "import openeo"
   ]
  },
  {
   "cell_type": "code",
   "execution_count": 2,
   "id": "ec50aef6",
   "metadata": {},
   "outputs": [
    {
     "data": {
      "text/html": [
       "Visit <a href=\"https://aai.egi.eu/device?user_code=PLVJ-MPKM\" title=\"Authenticate at https://aai.egi.eu/device?user_code=PLVJ-MPKM\" target=\"_blank\" rel=\"noopener noreferrer\">https://aai.egi.eu/device?user_code=PLVJ-MPKM</a> <a href=\"#\" onclick=\"navigator.clipboard.writeText('https://aai.egi.eu/device?user_code=PLVJ-MPKM');return false;\" title=\"Copy authentication URL to clipboard\">&#128203;</a> to authenticate."
      ]
     },
     "metadata": {},
     "output_type": "display_data"
    },
    {
     "data": {
      "text/html": [
       "✅ Authorized successfully"
      ]
     },
     "metadata": {},
     "output_type": "display_data"
    },
    {
     "name": "stdout",
     "output_type": "stream",
     "text": [
      "Authenticated using device code flow.\n"
     ]
    }
   ],
   "source": [
    "# Connect to openEO back-end.\n",
    "connection = openeo.connect(\"openeo.vito.be\").authenticate_oidc()"
   ]
  },
  {
   "cell_type": "code",
   "execution_count": 3,
   "id": "ed8eedb9",
   "metadata": {},
   "outputs": [],
   "source": [
    "# Load data cube from TERRASCOPE_S2_NDVI_V2 collection.\n",
    "cube = connection.load_collection(\n",
    "    \"TERRASCOPE_S2_NDVI_V2\",\n",
    "    spatial_extent={\"west\": 5.05, \"south\": 51.21, \"east\": 5.1, \"north\": 51.23},\n",
    "    temporal_extent=[\"2022-05-01\", \"2022-05-30\"],\n",
    "    bands=[\"NDVI_10M\"],\n",
    ")\n",
    "# Rescale digital number to physical values and take temporal maximum.\n",
    "cube = cube.apply(lambda x: 0.004 * x - 0.08).max_time()\n"
   ]
  },
  {
   "cell_type": "code",
   "execution_count": null,
   "id": "c7828d42",
   "metadata": {},
   "outputs": [],
   "source": [
    "# cube.download(\"ndvi-max.tiff\")\n",
    "cube.download(\"output.tiff\", format=\"GTiff\")"
   ]
  }
 ],
 "metadata": {
  "kernelspec": {
   "display_name": "openeo-community-examples",
   "language": "python",
   "name": "python3"
  },
  "language_info": {
   "codemirror_mode": {
    "name": "ipython",
    "version": 3
   },
   "file_extension": ".py",
   "mimetype": "text/x-python",
   "name": "python",
   "nbconvert_exporter": "python",
   "pygments_lexer": "ipython3",
   "version": "3.10.16"
  }
 },
 "nbformat": 4,
 "nbformat_minor": 5
}
